{
  "nbformat": 4,
  "nbformat_minor": 0,
  "metadata": {
    "colab": {
      "name": "Untitled30.ipynb",
      "provenance": [],
      "collapsed_sections": []
    },
    "kernelspec": {
      "name": "python3",
      "display_name": "Python 3"
    },
    "language_info": {
      "name": "python"
    }
  },
  "cells": [
    {
      "cell_type": "code",
      "metadata": {
        "id": "u94SVOQ4JdlL"
      },
      "source": [
        "#this script is used for geth data extraction\n",
        "import json\n",
        "import requests\n",
        "import sched, time\n",
        "import pandas as pd\n",
        "from datetime import datetime\n",
        "\n",
        "jslist=[]\n",
        "s = sched.scheduler(time.time, time.sleep)\n",
        "def do_something(sc): \n",
        "    response = requests.get(\"https://api.etherscan.io/api?module=proxy&action=eth_gasPrice&apikey=69SK4N44HS4YU9UB18RP9W9HQZ1SU3M1QC\")\n",
        "    todos = json.loads(response.text)\n",
        "    now = datetime.now()\n",
        "    current_time = now.strftime(\"%Y-%m-%d %H:%M:%S\")\n",
        "    jslist.append(str(todos)+str(current_time))\n",
        "    print(str(todos)+str(current_time))\n",
        "    s.enter(60, 1, do_something, (sc,))\n",
        "\n",
        "s.enter(60, 1, do_something, (s,))\n",
        "s.run()"
      ],
      "execution_count": null,
      "outputs": []
    },
    {
      "cell_type": "code",
      "metadata": {
        "id": "mdcYF13-JjZZ"
      },
      "source": [
        "!pip install jsonschema==3.2.0\n",
        "!pip install web3\n",
        "!pip install hexbytes\n",
        "!pip install eth_typing\n",
        "!pip install eth_utils\n",
        "#after compiling this, restart runtime is required"
      ],
      "execution_count": null,
      "outputs": []
    },
    {
      "cell_type": "code",
      "metadata": {
        "id": "Dh_ymorxJaig"
      },
      "source": [
        "#this script is used for ethereum gas prices data extraction \n",
        "import collections\n",
        "import math\n",
        "import operator\n",
        "from typing import (\n",
        "    Iterable,\n",
        "    Sequence,\n",
        "    Tuple,\n",
        ")\n",
        "\n",
        "from eth_typing import (\n",
        "    ChecksumAddress,\n",
        ")\n",
        "from eth_utils import (\n",
        "    to_tuple,\n",
        ")\n",
        "from eth_utils.toolz import (\n",
        "    curry,\n",
        "    groupby,\n",
        "    sliding_window,\n",
        ")\n",
        "from hexbytes import (\n",
        "    HexBytes,\n",
        ")\n",
        "\n",
        "from web3 import Web3\n",
        "from web3._utils.math import (\n",
        "    percentile,\n",
        ")\n",
        "from web3.exceptions import (\n",
        "    InsufficientData,\n",
        "    ValidationError,\n",
        ")\n",
        "from web3.types import (\n",
        "    BlockNumber,\n",
        "    GasPriceStrategy,\n",
        "    TxParams,\n",
        "    Wei,\n",
        ")\n",
        "from numpy import mean\n",
        "from csv import writer\n",
        "from datetime import datetime\n",
        "w3 = Web3(Web3.HTTPProvider('https://mainnet.infura.io/v3/1e61f3c3d3474fa0b9cff25f1a567714'))\n",
        "MinerData = collections.namedtuple(\n",
        "    'MinerData',\n",
        "    ['timestamp', 'num_blocks', 'min_gas_price', 'low_percentile_gas_price'])\n",
        "Probability = collections.namedtuple('Probability', ['gas_price', 'prob'])\n",
        "def _get_raw_miner_data(\n",
        "    w3: Web3, sample_size: int\n",
        ")-> Iterable[Tuple[ChecksumAddress, HexBytes,int, Wei]]:\n",
        "    latest = w3.eth.getBlock(11024553, full_transactions=True)\n",
        "\n",
        "    for transaction in latest['transactions']:\n",
        "        # type ignored b/c actual transaction is TxData not HexBytes\n",
        "        yield (latest['hash'],latest.timestamp, transaction['gasPrice'])  # type: ignore\n",
        "\n",
        "    block = latest\n",
        "\n",
        "    for _ in range(5):\n",
        "        if block['number'] == 0:\n",
        "            break\n",
        "\n",
        "        # we intentionally trace backwards using parent hashes rather than\n",
        "        # block numbers to make caching the data easier to implement.\n",
        "        block = w3.eth.getBlock(block['parentHash'], full_transactions=True)\n",
        "        for transaction in block['transactions']:\n",
        "            # type ignored b/c actual transaction is TxData not HexBytes\n",
        "            yield (block['hash'],block.timestamp, transaction['gasPrice'])  # type: ignore\n",
        "\n",
        "\n",
        "def _aggregate_miner_data(\n",
        "    raw_data:Iterable[Tuple[ChecksumAddress, HexBytes,int, Wei]]\n",
        ")-> Iterable[MinerData]:\n",
        "    data_by_miner = groupby(0, raw_data)\n",
        "    print(data_by_miner)\n",
        "    for bhash , miner_data in data_by_miner.items():\n",
        "        _,timestamp, gas_prices = map(tuple, zip(*miner_data))\n",
        "        with open('/content/drive/My Drive/blockdatatest.csv', 'a+') as write_obj:\n",
        "        # Create a writer object from csv module\n",
        "            csv_writer = writer(write_obj )\n",
        "        # Add contents of list as last row in the csv file\n",
        "            csv_writer.writerow([int(str(set(timestamp))),min(gas_prices)])\n",
        "        yield MinerData(\n",
        "            timestamp,\n",
        "            min(gas_prices),\n",
        "            max(gas_prices),\n",
        "            mean(gas_prices)\n",
        "            )\n",
        "list(_aggregate_miner_data(_get_raw_miner_data(w3,5)))"
      ],
      "execution_count": null,
      "outputs": []
    },
    {
      "cell_type": "code",
      "metadata": {
        "id": "Wl-Kl5MzJdj4"
      },
      "source": [
        ""
      ],
      "execution_count": null,
      "outputs": []
    }
  ]
}